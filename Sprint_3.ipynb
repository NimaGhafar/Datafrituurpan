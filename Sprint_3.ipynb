{
 "cells": [
  {
   "cell_type": "code",
   "execution_count": 1,
   "id": "01755e54",
   "metadata": {},
   "outputs": [],
   "source": [
    "import sqlite3\n",
    "import pandas as pd\n",
    "pd.set_option('display.max_columns', None)"
   ]
  },
  {
   "cell_type": "code",
   "execution_count": 2,
   "id": "33f688f3",
   "metadata": {},
   "outputs": [],
   "source": [
    "def make_query(query, filepath='database.sqlite'):\n",
    "    \"\"\"\n",
    "    Execute a query on a SQLite database file and return the results as a pandas DataFrame.\n",
    "\n",
    "    Parameters\n",
    "    ----------\n",
    "    query : str\n",
    "        SQL query to be executed on the database file.\n",
    "    filepath : str, optional\n",
    "        Path to the database file, by default 'database.sqlite'.\n",
    "\n",
    "    Returns\n",
    "    -------\n",
    "    pd.DataFrame\n",
    "        A pandas DataFrame containing the results of the executed query.\n",
    "    \"\"\"\n",
    "    with sqlite3.connect(filepath) as connection:\n",
    "        cursor = connection.cursor()\n",
    "        execution = cursor.execute(query)\n",
    "        result = pd.DataFrame(execution.fetchall(), columns=[i[0] for i in execution.description])\n",
    "        return result"
   ]
  },
  {
   "cell_type": "code",
   "execution_count": 6,
   "id": "23840df0",
   "metadata": {},
   "outputs": [],
   "source": []
  }
 ],
 "metadata": {
  "kernelspec": {
   "display_name": "Python 3 (ipykernel)",
   "language": "python",
   "name": "python3"
  },
  "language_info": {
   "codemirror_mode": {
    "name": "ipython",
    "version": 3
   },
   "file_extension": ".py",
   "mimetype": "text/x-python",
   "name": "python",
   "nbconvert_exporter": "python",
   "pygments_lexer": "ipython3",
   "version": "3.9.12"
  }
 },
 "nbformat": 4,
 "nbformat_minor": 5
}
