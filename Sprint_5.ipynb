{
 "cells": [
  {
   "cell_type": "code",
   "execution_count": 1,
   "id": "30f99cc3",
   "metadata": {},
   "outputs": [],
   "source": [
    "import sqlite3\n",
    "import pandas as pd\n",
    "import numpy as np\n",
    "import matplotlib.pyplot as plt\n",
    "import seaborn as sns\n",
    "\n",
    "pd.set_option('display.max_columns', None)"
   ]
  },
  {
   "cell_type": "code",
   "execution_count": 5,
   "id": "a5a23686",
   "metadata": {},
   "outputs": [],
   "source": [
    "def make_query(query, filepath='database.sqlite'):\n",
    "    \"\"\"\n",
    "    Execute a query on a SQLite database file and return the results as a pandas DataFrame.\n",
    "\n",
    "    Parameters\n",
    "    ----------\n",
    "    query : str\n",
    "        SQL query to be executed on the database file.\n",
    "    filepath : str, optional\n",
    "        Path to the database file, by default 'database.sqlite'.\n",
    "\n",
    "    Returns\n",
    "    -------\n",
    "    pd.DataFrame\n",
    "        A pandas DataFrame containing the results of the executed query.\n",
    "    \"\"\"\n",
    "    with sqlite3.connect(filepath) as connection:\n",
    "        cursor = connection.cursor()\n",
    "        execution = cursor.execute(query)\n",
    "        result = pd.DataFrame(execution.fetchall(), columns=[i[0] for i in execution.description])\n",
    "        return result"
   ]
  },
  {
   "cell_type": "code",
   "execution_count": null,
   "id": "f26032d1",
   "metadata": {},
   "outputs": [],
   "source": [
    "player_attributes = make_query(\"\"\" SELECT * FROM player_attributes \"\"\")\n",
    "player = make_query(\"\"\" SELECT * FROM player \"\"\")\n",
    "match = make_query(\"\"\" SELECT * FROM match \"\"\")\n",
    "team = make_query(\"\"\" SELECT * FROM team \"\"\")\n",
    "team_attributes = make_query(\"\"\" SELECT * FROM team_attributes \"\"\")\n",
    "league = make_query(\"\"\" SELECT * FROM league \"\"\")\n",
    "country = make_query(\"\"\" SELECT * FROM country \"\"\")"
   ]
  }
 ],
 "metadata": {
  "kernelspec": {
   "display_name": "Python 3 (ipykernel)",
   "language": "python",
   "name": "python3"
  },
  "language_info": {
   "codemirror_mode": {
    "name": "ipython",
    "version": 3
   },
   "file_extension": ".py",
   "mimetype": "text/x-python",
   "name": "python",
   "nbconvert_exporter": "python",
   "pygments_lexer": "ipython3",
   "version": "3.9.12"
  }
 },
 "nbformat": 4,
 "nbformat_minor": 5
}
