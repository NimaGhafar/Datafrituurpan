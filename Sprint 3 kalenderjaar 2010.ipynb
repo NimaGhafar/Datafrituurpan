{
 "cells": [
  {
   "cell_type": "code",
   "execution_count": 2,
   "id": "07bd6a72",
   "metadata": {},
   "outputs": [],
   "source": [
    "import sqlite3\n",
    "import pandas as pd\n",
    "pd.set_option('display.max_columns', None)"
   ]
  },
  {
   "cell_type": "code",
   "execution_count": 3,
   "id": "73a3d796",
   "metadata": {},
   "outputs": [],
   "source": [
    "def make_query(query, filepath='database.sqlite'):\n",
    "    \"\"\"\n",
    "    Execute a query on a SQLite database file and return the results as a pandas DataFrame.\n",
    "\n",
    "    Parameters\n",
    "    ----------\n",
    "    query : str\n",
    "        SQL query to be executed on the database file.\n",
    "    filepath : str, optional\n",
    "        Path to the database file, by default 'database.sqlite'.\n",
    "\n",
    "    Returns\n",
    "    -------\n",
    "    pd.DataFrame\n",
    "        A pandas DataFrame containing the results of the executed query.\n",
    "    \"\"\"\n",
    "    with sqlite3.connect(filepath) as connection:\n",
    "        cursor = connection.cursor()\n",
    "        execution = cursor.execute(query)\n",
    "        result = pd.DataFrame(execution.fetchall(), columns=[i[0] for i in execution.description])\n",
    "        return result"
   ]
  },
  {
   "cell_type": "code",
   "execution_count": 38,
   "id": "2c4777c8",
   "metadata": {},
   "outputs": [
    {
     "data": {
      "text/html": [
       "<div>\n",
       "<style scoped>\n",
       "    .dataframe tbody tr th:only-of-type {\n",
       "        vertical-align: middle;\n",
       "    }\n",
       "\n",
       "    .dataframe tbody tr th {\n",
       "        vertical-align: top;\n",
       "    }\n",
       "\n",
       "    .dataframe thead th {\n",
       "        text-align: right;\n",
       "    }\n",
       "</style>\n",
       "<table border=\"1\" class=\"dataframe\">\n",
       "  <thead>\n",
       "    <tr style=\"text-align: right;\">\n",
       "      <th></th>\n",
       "      <th>season</th>\n",
       "      <th>Aantal wedstrijden in  2010</th>\n",
       "    </tr>\n",
       "  </thead>\n",
       "  <tbody>\n",
       "    <tr>\n",
       "      <th>0</th>\n",
       "      <td>2009/2010</td>\n",
       "      <td>18</td>\n",
       "    </tr>\n",
       "    <tr>\n",
       "      <th>1</th>\n",
       "      <td>2010/2011</td>\n",
       "      <td>18</td>\n",
       "    </tr>\n",
       "  </tbody>\n",
       "</table>\n",
       "</div>"
      ],
      "text/plain": [
       "      season  Aantal wedstrijden in  2010\n",
       "0  2009/2010                           18\n",
       "1  2010/2011                           18"
      ]
     },
     "execution_count": 38,
     "metadata": {},
     "output_type": "execute_result"
    }
   ],
   "source": [
    "match_data_2010 = make_query(\n",
    "\"\"\"\n",
    "\n",
    "SELECT\n",
    "       season,\n",
    "       COUNT(date) AS 'Aantal wedstrijden in  2010'\n",
    "\n",
    "        \n",
    "FROM Match\n",
    "INNER JOIN Team AS Home_team\n",
    "    ON Match.home_team_api_id = Home_team.team_api_id\n",
    "INNER JOIN Team AS Away_team\n",
    "    ON Match.away_team_api_id = Away_team.team_api_id\n",
    "INNER JOIN League AS League_name\n",
    "    ON Match.league_id = League_name.id\n",
    "\n",
    "WHERE (home_team_api_id = '10260' OR away_team_api_id = '10260')\n",
    "AND (date LIKE '2010%')\n",
    "\n",
    "GROUP BY season\n",
    "ORDER BY date\n",
    "\n",
    "\n",
    "\n",
    "\n",
    "\"\"\")\n",
    "\n",
    "match_data_2010"
   ]
  },
  {
   "cell_type": "code",
   "execution_count": null,
   "id": "c5bfc787",
   "metadata": {},
   "outputs": [],
   "source": []
  }
 ],
 "metadata": {
  "kernelspec": {
   "display_name": "Python 3 (ipykernel)",
   "language": "python",
   "name": "python3"
  },
  "language_info": {
   "codemirror_mode": {
    "name": "ipython",
    "version": 3
   },
   "file_extension": ".py",
   "mimetype": "text/x-python",
   "name": "python",
   "nbconvert_exporter": "python",
   "pygments_lexer": "ipython3",
   "version": "3.9.12"
  }
 },
 "nbformat": 4,
 "nbformat_minor": 5
}
