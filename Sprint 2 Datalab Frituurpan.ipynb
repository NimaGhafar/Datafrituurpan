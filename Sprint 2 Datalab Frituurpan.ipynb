{
 "cells": [
  {
   "cell_type": "code",
   "execution_count": 5,
   "id": "08138303",
   "metadata": {},
   "outputs": [],
   "source": [
    "import sqlite3\n",
    "import contextlib\n",
    "import pandas as pd"
   ]
  },
  {
   "cell_type": "code",
   "execution_count": 6,
   "id": "5d424308",
   "metadata": {},
   "outputs": [
    {
     "data": {
      "text/plain": [
       "<sqlite3.Connection at 0x21c93c8ee40>"
      ]
     },
     "execution_count": 6,
     "metadata": {},
     "output_type": "execute_result"
    }
   ],
   "source": [
    "sqlite3.connect('database.sqlite')"
   ]
  },
  {
   "cell_type": "code",
   "execution_count": 7,
   "id": "dc014af8",
   "metadata": {},
   "outputs": [],
   "source": [
    "sql_connect = sqlite3.connect('database.sqlite')\n",
    "cursor = sql_connect.cursor()"
   ]
  },
  {
   "cell_type": "code",
   "execution_count": 8,
   "id": "25195b8e",
   "metadata": {},
   "outputs": [],
   "source": [
    "query_r = 'SELECT * FROM sqlite_sequence'"
   ]
  },
  {
   "cell_type": "code",
   "execution_count": 9,
   "id": "5e2a92b9",
   "metadata": {},
   "outputs": [
    {
     "data": {
      "text/plain": [
       "[('Team', 103916),\n",
       " ('Country', 51958),\n",
       " ('League', 51958),\n",
       " ('Match', 51958),\n",
       " ('Player', 11075),\n",
       " ('Player_Attributes', 183978),\n",
       " ('Team_Attributes', 1458)]"
      ]
     },
     "execution_count": 9,
     "metadata": {},
     "output_type": "execute_result"
    }
   ],
   "source": [
    "result = cursor.execute(query_r).fetchall()\n",
    "sql_connect.commit()\n",
    "result"
   ]
  }
 ],
 "metadata": {
  "kernelspec": {
   "display_name": "Python 3 (ipykernel)",
   "language": "python",
   "name": "python3"
  },
  "language_info": {
   "codemirror_mode": {
    "name": "ipython",
    "version": 3
   },
   "file_extension": ".py",
   "mimetype": "text/x-python",
   "name": "python",
   "nbconvert_exporter": "python",
   "pygments_lexer": "ipython3",
   "version": "3.9.12"
  }
 },
 "nbformat": 4,
 "nbformat_minor": 5
}
